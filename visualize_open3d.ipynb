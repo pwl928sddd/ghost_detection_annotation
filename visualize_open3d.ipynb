{
 "cells": [
  {
   "cell_type": "code",
   "execution_count": 1,
   "metadata": {},
   "outputs": [
    {
     "name": "stdout",
     "output_type": "stream",
     "text": [
      "Jupyter environment detected. Enabling Open3D WebVisualizer.\n",
      "[Open3D INFO] WebRTC GUI backend enabled.\n",
      "[Open3D INFO] WebRTCWindowSystem: HTTP handshake server disabled.\n"
     ]
    }
   ],
   "source": [
    "import json\n",
    "import numpy as np\n",
    "import os\n",
    "from scipy import spatial\n",
    "from open3d import *\n",
    "import pandas as pd\n",
    "from sklearn.model_selection import train_test_split\n",
    "import random\n",
    "from natsort import natsorted"
   ]
  },
  {
   "cell_type": "code",
   "execution_count": 2,
   "metadata": {},
   "outputs": [
    {
     "name": "stdout",
     "output_type": "stream",
     "text": [
      "279\n",
      "552\n"
     ]
    },
    {
     "data": {
      "text/plain": [
       "PointCloud with 552 points."
      ]
     },
     "execution_count": 2,
     "metadata": {},
     "output_type": "execute_result"
    }
   ],
   "source": [
    "# Visualizing lidar and radar data\n",
    "\n",
    "lidar_file_path = \"custom_data/sample_set/lidar_os1/000000.txt\"\n",
    "lidar_df = pd.read_csv(lidar_file_path, sep=' ', header=0)\n",
    "lidar = [tuple(x) for x in lidar_df.loc[:, 'X':'Z'].values]\n",
    "pcd_l = geometry.PointCloud()\n",
    "pcd_l.points = utility.Vector3dVector(lidar)\n",
    "pcd_l.paint_uniform_color([0.5,0,0.5])\n",
    "\n",
    "radar_file_path = \"custom_data/sample_set/radar_gt/000000.txt\"\n",
    "radar_df = pd.read_csv(radar_file_path, sep=\" \", header=0)\n",
    "\n",
    "radar_corr = [tuple(x) for x in radar_df.loc[(radar_df['Label'] == 1), 'X':'Z'].values]\n",
    "print(len(radar_corr))\n",
    "pcd_r_t_c = geometry.PointCloud()\n",
    "pcd_r_t_c.points = utility.Vector3dVector(radar_corr)\n",
    "pcd_r_t_c.paint_uniform_color([0,0,1])\n",
    "\n",
    "radar_wrong = [tuple(x) for x in radar_df.loc[(radar_df['Label'] == 0), 'X':'Z'].values]\n",
    "print(len(radar_wrong))\n",
    "pcd_r_f_c = geometry.PointCloud()\n",
    "pcd_r_f_c.points = utility.Vector3dVector(radar_wrong)\n",
    "pcd_r_f_c.paint_uniform_color([0,1,1])\n",
    "\n",
    "# tradar_corr = [tuple(x) for x in radar_df.loc[(radar_df['Label'] == radar_df['Pred']) & (radar_df['Pred'] == 1), 'X':'Z'].values]\n",
    "# print(len(tradar_corr))\n",
    "# pcd_r_t_c = geometry.PointCloud()\n",
    "# pcd_r_t_c.points = utility.Vector3dVector(tradar_corr)\n",
    "# pcd_r_t_c.paint_uniform_color([0,0,1])\n",
    "\n",
    "# fradar_corr = [tuple(x) for x in radar_df.loc[(radar_df['Label'] == radar_df['Pred']) & (radar_df['Pred'] == 0), 'X':'Z'].values]\n",
    "# print(len(fradar_corr))\n",
    "# pcd_r_f_c = geometry.PointCloud()\n",
    "# pcd_r_f_c.points = utility.Vector3dVector(fradar_corr)\n",
    "# pcd_r_f_c.paint_uniform_color([0,1,1])\n",
    "\n",
    "# tradar_wrong = [tuple(x) for x in radar_df.loc[(radar_df['Label'] != radar_df['Pred']) & (radar_df['Pred'] == 1), 'X':'Z'].values]\n",
    "# print(len(tradar_wrong))\n",
    "# pcd_r_t_w = geometry.PointCloud()\n",
    "# pcd_r_t_w.points = utility.Vector3dVector(tradar_wrong)\n",
    "# pcd_r_t_w.paint_uniform_color([0,1,0])\n",
    "\n",
    "# fradar_wrong = [tuple(x) for x in radar_df.loc[(radar_df['Label'] != radar_df['Pred']) & (radar_df['Pred'] == 0), 'X':'Z'].values]\n",
    "# print(len(fradar_wrong))\n",
    "# pcd_r_f_w = geometry.PointCloud()\n",
    "# pcd_r_f_w.points = utility.Vector3dVector(fradar_wrong)\n",
    "# pcd_r_f_w.paint_uniform_color([0.5,0.5,0])\n"
   ]
  },
  {
   "cell_type": "code",
   "execution_count": 3,
   "metadata": {},
   "outputs": [],
   "source": [
    "visualization.draw_geometries([pcd_l, pcd_r_t_c, pcd_r_f_c])"
   ]
  }
 ],
 "metadata": {
  "kernelspec": {
   "display_name": "Python 3.11.7 ('pt')",
   "language": "python",
   "name": "python3"
  },
  "language_info": {
   "codemirror_mode": {
    "name": "ipython",
    "version": 3
   },
   "file_extension": ".py",
   "mimetype": "text/x-python",
   "name": "python",
   "nbconvert_exporter": "python",
   "pygments_lexer": "ipython3",
   "version": "3.11.7"
  },
  "vscode": {
   "interpreter": {
    "hash": "54d703a7cf4c18835b3218d9a8316ca45366e972054529d854655a5da55137cd"
   }
  }
 },
 "nbformat": 4,
 "nbformat_minor": 2
}
